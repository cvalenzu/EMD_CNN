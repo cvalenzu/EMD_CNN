{
 "cells": [
  {
   "cell_type": "code",
   "execution_count": 74,
   "metadata": {
    "collapsed": true
   },
   "outputs": [],
   "source": [
    "from PyEMD import EMD\n",
    "import pandas as pd\n",
    "import numpy as np\n",
    "import progressbar"
   ]
  },
  {
   "cell_type": "code",
   "execution_count": 3,
   "metadata": {
    "collapsed": true
   },
   "outputs": [],
   "source": [
    "def create_data_cube(data,input_dim=24, output_dim = 12, timesteps=720):\n",
    "    m = len(data)\n",
    "    \n",
    "    A = np.empty((m,input_dim))\n",
    "    B = np.empty((m, output_dim))\n",
    "    \n",
    "    try:\n",
    "        for i in range(m):\n",
    "            window = data[i+input_dim:i:-1]\n",
    "            A[i,:] = window\n",
    "            B[i,:] = data[i+input_dim:i+input_dim+output_dim]\n",
    "    except:\n",
    "        A = A[:i,:]\n",
    "    X = np.empty((i-timesteps, timesteps, input_dim))\n",
    "    y = np.empty((i-timesteps, output_dim))\n",
    "    for j in range(timesteps):\n",
    "        X[:,j,:] = A[j:i-(timesteps-j),:]\n",
    "        \n",
    "    for a in range(i-(timesteps)):\n",
    "        y[a,:] = B[a+timesteps,:]\n",
    "    A = None\n",
    "    B = None\n",
    "    return X,y"
   ]
  },
  {
   "cell_type": "code",
   "execution_count": 84,
   "metadata": {},
   "outputs": [],
   "source": [
    "timesteps=360\n",
    "emd_dim = 2\n",
    "data = pd.Series.from_csv(\"data/canela.csv\").values\n",
    "data = data[:1000]"
   ]
  },
  {
   "cell_type": "code",
   "execution_count": 85,
   "metadata": {},
   "outputs": [],
   "source": [
    "X,y = create_data_cube(data, input_dim=1, output_dim=168, timesteps=timesteps)"
   ]
  },
  {
   "cell_type": "code",
   "execution_count": 86,
   "metadata": {},
   "outputs": [
    {
     "name": "stderr",
     "output_type": "stream",
     "text": [
      " 99% (471 of 472) |###################### | Elapsed Time: 0:01:30 ETA:  0:00:00"
     ]
    }
   ],
   "source": [
    "X_new = np.empty((X.shape[0], X.shape[1],emd_dim+1))\n",
    "emd = EMD()\n",
    "bar = progressbar.ProgressBar(max_value = X.shape[0])\n",
    "for i in range(X.shape[0]):\n",
    "    timeseries = X[i,:,0]\n",
    "    X_new[i,:,0] = X[i,:,0]\n",
    "    X_new[i,:,:] = emd.emd(timeseries,max_imf = emd_dim).T\n",
    "    bar.update(i)"
   ]
  },
  {
   "cell_type": "code",
   "execution_count": 99,
   "metadata": {
    "collapsed": true
   },
   "outputs": [],
   "source": [
    "np.save(\"X_canela_{}_imfs_{}_timesteps\".format(emd_dims,timesteps),X_new)\n",
    "np.save(\"y_canela_{}_imfs_{}_timesteps\".format(emd_dims,timesteps),y)"
   ]
  },
  {
   "cell_type": "code",
   "execution_count": 114,
   "metadata": {
    "collapsed": true
   },
   "outputs": [],
   "source": [
    "import os"
   ]
  },
  {
   "cell_type": "code",
   "execution_count": null,
   "metadata": {
    "collapsed": true
   },
   "outputs": [],
   "source": [
    "os.makedirs(\"test\",exist_ok=)"
   ]
  }
 ],
 "metadata": {
  "kernelspec": {
   "display_name": "Python 3",
   "language": "python",
   "name": "python3"
  },
  "language_info": {
   "codemirror_mode": {
    "name": "ipython",
    "version": 3
   },
   "file_extension": ".py",
   "mimetype": "text/x-python",
   "name": "python",
   "nbconvert_exporter": "python",
   "pygments_lexer": "ipython3",
   "version": "3.6.3"
  }
 },
 "nbformat": 4,
 "nbformat_minor": 2
}
