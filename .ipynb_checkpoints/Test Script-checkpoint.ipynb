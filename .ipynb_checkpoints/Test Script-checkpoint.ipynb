{
 "cells": [
  {
   "cell_type": "code",
   "execution_count": 1,
   "metadata": {
    "collapsed": true
   },
   "outputs": [],
   "source": [
    "from PyEMD import EMD\n",
    "import pandas as pd\n",
    "import numpy as np\n",
    "import progressbar"
   ]
  },
  {
   "cell_type": "code",
   "execution_count": 27,
   "metadata": {
    "collapsed": true
   },
   "outputs": [],
   "source": [
    "def create_data_cube(data,input_dim=24, output_dim = 12, timesteps=720):\n",
    "    m = len(data)\n",
    "    \n",
    "    A = np.empty((m,input_dim))\n",
    "    B = np.empty((m, output_dim))\n",
    "    \n",
    "    try:\n",
    "        for i in range(m):\n",
    "            window = data[i+input_dim:i:-1]\n",
    "            A[i,:] = window\n",
    "            B[i,:] = data[i+input_dim:i+input_dim+output_dim]\n",
    "    except:\n",
    "        A = A[:i,:]\n",
    "    X = np.empty((i-timesteps, timesteps, input_dim))\n",
    "    y = np.empty((i-timesteps, output_dim))\n",
    "    for j in range(timesteps):\n",
    "        X[:,j,:] = A[j:i-(timesteps-j),:]\n",
    "        \n",
    "    for a in range(i-(timesteps)):\n",
    "        y[a,:] = B[a+timesteps,:]\n",
    "    A = None\n",
    "    B = None\n",
    "    return X,y"
   ]
  },
  {
   "cell_type": "code",
   "execution_count": 36,
   "metadata": {
    "collapsed": true
   },
   "outputs": [],
   "source": [
    "timesteps=360\n",
    "emd_dim = 2\n",
    "data = pd.Series.from_csv(\"data/canela.csv\").values\n",
    "data = data[:600]"
   ]
  },
  {
   "cell_type": "code",
   "execution_count": 37,
   "metadata": {},
   "outputs": [],
   "source": [
    "X,y = create_data_cube(data, input_dim=1, output_dim=168, timesteps=timesteps)"
   ]
  },
  {
   "cell_type": "code",
   "execution_count": 52,
   "metadata": {},
   "outputs": [
    {
     "name": "stderr",
     "output_type": "stream",
     "text": [
      " 98% (71 of 72) |######################## | Elapsed Time: 0:00:11 ETA:  0:00:00"
     ]
    }
   ],
   "source": [
    "X_new = np.empty((X.shape[0], X.shape[1],emd_dim+2))\n",
    "emd = EMD()\n",
    "bar = progressbar.ProgressBar(max_value = X.shape[0])\n",
    "for i in range(X.shape[0]):\n",
    "    timeseries = X[i,:,0]\n",
    "    X_new[i,:,0] = X[i,:,0]\n",
    "    X_new[i,:,1:] = emd.emd(timeseries,max_imf = emd_dim).T\n",
    "    bar.update(i)"
   ]
  },
  {
   "cell_type": "code",
   "execution_count": 60,
   "metadata": {},
   "outputs": [
    {
     "data": {
      "text/plain": [
       "[<matplotlib.lines.Line2D at 0x7f54344c39b0>]"
      ]
     },
     "execution_count": 60,
     "metadata": {},
     "output_type": "execute_result"
    },
    {
     "data": {
      "image/png": "[encoded data removed]",
      "text/plain": [
       "<matplotlib.figure.Figure at 0x7f5434904ac8>"
      ]
     },
     "metadata": {},
     "output_type": "display_data"
    }
   ],
   "source": [
    "import matplotlib.pyplot as plt\n",
    "%matplotlib inline\n",
    "\n",
    "plt.plot(X_new[0,:,3])"
   ]
  },
  {
   "cell_type": "code",
   "execution_count": 99,
   "metadata": {
    "collapsed": true
   },
   "outputs": [],
   "source": [
    "np.save(\"X_canela_{}_imfs_{}_timesteps\".format(emd_dims,timesteps),X_new)\n",
    "np.save(\"y_canela_{}_imfs_{}_timesteps\".format(emd_dims,timesteps),y)"
   ]
  },
  {
   "cell_type": "code",
   "execution_count": 114,
   "metadata": {
    "collapsed": true
   },
   "outputs": [],
   "source": [
    "import os"
   ]
  },
  {
   "cell_type": "code",
   "execution_count": null,
   "metadata": {
    "collapsed": true
   },
   "outputs": [],
   "source": [
    "os.makedirs(\"test\",exist_ok=)"
   ]
  }
 ],
 "metadata": {
  "kernelspec": {
   "display_name": "Python 3",
   "language": "python",
   "name": "python3"
  },
  "language_info": {
   "codemirror_mode": {
    "name": "ipython",
    "version": 3
   },
   "file_extension": ".py",
   "mimetype": "text/x-python",
   "name": "python",
   "nbconvert_exporter": "python",
   "pygments_lexer": "ipython3",
   "version": "3.6.3"
  }
 },
 "nbformat": 4,
 "nbformat_minor": 2
}
