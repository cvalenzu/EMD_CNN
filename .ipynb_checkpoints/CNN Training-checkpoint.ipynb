{
 "cells": [
  {
   "cell_type": "code",
   "execution_count": 210,
   "metadata": {},
   "outputs": [],
   "source": [
    "import numpy as np\n",
    "\n",
    "from keras.models import Sequential\n",
    "from keras.layers import Dense, Conv1D, MaxPooling1D, Dropout, Flatten\n",
    "from keras import backend as K\n",
    "\n",
    "import sklearn.model_selection as ms\n",
    "import sklearn.metrics as metrics\n",
    "import sklearnarn.preprocessing as preprocessing\n",
    "\n",
    "import pandas as pd\n",
    "import os"
   ]
  },
  {
   "cell_type": "code",
   "execution_count": 230,
   "metadata": {},
   "outputs": [],
   "source": [
    "batch_size = 128\n",
    "epochs = 2\n",
    "verbose = False\n",
    "train_perc = 0.4\n",
    "\n",
    "output_path = \"results/params_cnn/\"\n",
    "output_path = output_path if output_path[-1] == \"/\" else output_path+\"/\"\n",
    "path = \"EMDS/canela/X_canela_5_imfs_168_timesteps.npy\"\n",
    "filename = os.path.basename(path).split(\"_\")\n",
    "source = filename[1]\n",
    "\n",
    "preprocess= \"minmax\"\n",
    "\n",
    "os.makedirs(output_path,exist_ok=True)"
   ]
  },
  {
   "cell_type": "code",
   "execution_count": 231,
   "metadata": {},
   "outputs": [],
   "source": [
    "X = np.load(path)\n",
    "y =  np.load(path.replace(\"X\",\"y\"))"
   ]
  },
  {
   "cell_type": "code",
   "execution_count": 232,
   "metadata": {
    "collapsed": true
   },
   "outputs": [],
   "source": [
    "n = X.shape[0]\n",
    "timesteps = X.shape[1]\n",
    "imfs = X.shape[2]\n",
    "\n",
    "train_len = int(train_perc*n)\n",
    "val_len = int(train_perc*train_len)\n",
    "X_train, X_test = X[:val_len], X[val_len:train_len]\n",
    "y_train, y_test = y[:val_len], y[val_len:train_len]"
   ]
  },
  {
   "cell_type": "code",
   "execution_count": 233,
   "metadata": {},
   "outputs": [
    {
     "name": "stdout",
     "output_type": "stream",
     "text": [
      "Using Minmax Scaler with feature range  (-1,1) \n"
     ]
    }
   ],
   "source": [
    "if \"minmax\" in preprocess:\n",
    "    print(\"Using Minmax Scaler with feature range \", end=\"\")\n",
    "    if \"1\" in preprocess:\n",
    "        print(\" (0,1) \")\n",
    "        feature_range=(0,1)\n",
    "    else:\n",
    "        print( \" (-1,1) \" )\n",
    "        feature_range=(-1,1)\n",
    "    minmax_in = preprocessing.MinMaxScaler(feature_range=feature_range)\n",
    "    minmax_out = preprocessing.MinMaxScaler(feature_range=feature_range)\n",
    "\n",
    "    minmax_in.fit(X_train[:,0,:])\n",
    "    minmax_out.fit(y_train.reshape(-1,1))\n",
    "\n",
    "    preproc_in = minmax_in\n",
    "    preproc_out = minmax_out\n",
    "\n",
    "else:\n",
    "    print(\"Using Standarization\")\n",
    "    standarization_in = preprocessing.StandardScaler()\n",
    "    standarization_out = preprocessing.StandardScaler()\n",
    "\n",
    "    standarization_in.fit(X_train[:,0,:])\n",
    "    standarization_out.fit(y_train[:,0].reshape(-1,1))\n",
    "\n",
    "    preproc_in = standarization_in\n",
    "    preproc_out = standarization_out\n",
    "\n",
    "for i in range(timesteps):\n",
    "    X_train[:,i,:] = preproc_in.transform(X_train[:,i,:]) if preproc_in else X_train\n",
    "    X_test[:,i,:] = preproc_in.transform(X_test[:,i,:]) if preproc_in else X_test\n",
    "y_train_process = preproc_out.transform(y_train[:,0].reshape(-1,1)) if preproc_out else y_train[:,0].reshape(-1,1)"
   ]
  },
  {
   "cell_type": "code",
   "execution_count": 234,
   "metadata": {
    "collapsed": true
   },
   "outputs": [],
   "source": [
    "activations = [\"relu\", \"tanh\", \"sigmoid\"]\n",
    "maxpool = [True,False]\n",
    "filters = np.arange(2,10)\n",
    "lags = np.arange(6,49,6)\n",
    "param_grid = {\"timesteps\":[timesteps], \"imfs\": [imfs],\"activation\": activations,\n",
    "              \"maxpool\":maxpool,\"filters\":filters,\"lags\":lags}\n",
    "params = ms.ParameterGrid(param_grid)"
   ]
  },
  {
   "cell_type": "code",
   "execution_count": 240,
   "metadata": {},
   "outputs": [],
   "source": [
    "def create_model(filters, lags,timesteps,imfs, activation = \"relu\", maxpool=False):\n",
    "    lags = int(lags)\n",
    "    filters = int(filters)\n",
    "    timesteps = int(timesteps)\n",
    "    model = Sequential()\n",
    "    model.add(Conv1D(filters=filters,kernel_size=lags, input_shape=(timesteps,imfs),activation=activation))\n",
    "    if maxpool:\n",
    "        model.add(MaxPooling1D(lags))\n",
    "    model.add(Flatten())\n",
    "    model.add(Dense(1))\n",
    "    return model"
   ]
  },
  {
   "cell_type": "code",
   "execution_count": 241,
   "metadata": {
    "scrolled": false
   },
   "outputs": [
    {
     "name": "stdout",
     "output_type": "stream",
     "text": [
      "{'activation': 'relu', 'filters': 2, 'imfs': 6, 'lags': 6, 'maxpool': True, 'timesteps': 168}\n",
      "33.008432788\n"
     ]
    }
   ],
   "source": [
    "y_metrics = np.zeros(len(params))\n",
    "for i,param in enumerate(params):\n",
    "    print(param)\n",
    "    y_approx = np.zeros_like(y_test)\n",
    "    for i in range(y_test.shape[1]):\n",
    "        np.random.seed(42)\n",
    "        model = create_model(**param)\n",
    "        model.compile(loss='mean_squared_error',\n",
    "                  optimizer='adam')\n",
    "\n",
    "        model.fit(X_train,y_train[:,i], batch_size=batch_size, epochs=epochs,verbose=verbose)\n",
    "        models.append(model)\n",
    "\n",
    "        y_iter = preproc_out.inverse_transform(model.predict(X_test))\n",
    "        y_approx[:,i] = y_iter[:,0]\n",
    "        K.clear_session()\n",
    "    y_metric = metrics.mean_squared_error(y_test,y_approx)\n",
    "    y_metrics[i] = y_metric"
   ]
  },
  {
   "cell_type": "code",
   "execution_count": 242,
   "metadata": {},
   "outputs": [],
   "source": [
    "p = []\n",
    "for param in params:\n",
    "    p.append(param)\n",
    "p = pd.DataFrame(p)"
   ]
  },
  {
   "cell_type": "code",
   "execution_count": 243,
   "metadata": {
    "collapsed": true
   },
   "outputs": [],
   "source": [
    "p[\"score\"] = y_metrics"
   ]
  },
  {
   "cell_type": "code",
   "execution_count": 244,
   "metadata": {},
   "outputs": [],
   "source": [
    "p.to_csv(output_path+\"{}_{}_imfs_{}_timesteps.csv\".format(source,imfs,timesteps))"
   ]
  },
  {
   "cell_type": "code",
   "execution_count": null,
   "metadata": {
    "collapsed": true
   },
   "outputs": [],
   "source": []
  }
 ],
 "metadata": {
  "kernelspec": {
   "display_name": "Python 3",
   "language": "python",
   "name": "python3"
  },
  "language_info": {
   "codemirror_mode": {
    "name": "ipython",
    "version": 3
   },
   "file_extension": ".py",
   "mimetype": "text/x-python",
   "name": "python",
   "nbconvert_exporter": "python",
   "pygments_lexer": "ipython3",
   "version": "3.6.3"
  }
 },
 "nbformat": 4,
 "nbformat_minor": 2
}
